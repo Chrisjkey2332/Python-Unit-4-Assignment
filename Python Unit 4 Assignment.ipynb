{
 "cells": [
  {
   "cell_type": "code",
   "execution_count": 25,
   "id": "895aac0c",
   "metadata": {},
   "outputs": [
    {
     "name": "stdout",
     "output_type": "stream",
     "text": [
      "Would you like to add items, show your cart, or leave?add items\n",
      "What are you adding to the cart?apple\n",
      "Would you like to add items, show your cart, or leave?add items\n",
      "What are you adding to the cart?banana\n",
      "Would you like to add items, show your cart, or leave?add items\n",
      "What are you adding to the cart?orange\n",
      "Would you like to add items, show your cart, or leave?leave\n",
      "Thank you for visiting NotReal-Mart.\n",
      "Your cart contains: \n",
      "apple\n",
      "banana\n",
      "orange\n"
     ]
    }
   ],
   "source": [
    "#Create Cart with definitions\n",
    "class Cart():\n",
    "    def __init__(self, capacity, items):\n",
    "        self.items = items\n",
    "\n",
    "    #Show contents of cart\n",
    "    def showCart(self):\n",
    "        print(\"Your cart contains: \")\n",
    "        for item in self.items:\n",
    "            print(item)\n",
    "\n",
    "    #How to see capacity of cart\n",
    "    def showCapacity(self):\n",
    "        print(f\"Your capacity is {self.capacity}\")\n",
    "\n",
    "    #How to manage capacity\n",
    "    def changeCapacity(self, capacity):\n",
    "        self.capacity = capacity\n",
    "\n",
    "    #How to add to cart\n",
    "    def addToCart(self):\n",
    "        product = input(\"What are you adding to the cart?\")\n",
    "        self.items.append(product)\n",
    "\n",
    "#Shopping cart madness\n",
    "def shoppingCart():\n",
    "    whole_food_cart = Cart(2,[])\n",
    "    while True:\n",
    "        response = input(\"Would you like to add items, show your cart, or leave?\")\n",
    "        if response.lower() == 'add items':\n",
    "            whole_food_cart.addToCart()\n",
    "        if response.lower() == 'show your cart':\n",
    "            whole_food_cart.showCart()\n",
    "        if response.lower() == 'leave':\n",
    "            print('Thank you for visiting NotReal-Mart.')\n",
    "            whole_food_cart.showCart()\n",
    "            break\n",
    "\n",
    "shoppingCart()"
   ]
  },
  {
   "cell_type": "code",
   "execution_count": 1,
   "id": "d71303c7",
   "metadata": {},
   "outputs": [
    {
     "name": "stdout",
     "output_type": "stream",
     "text": [
      "This is a Blue Ford Explorer with 4 wheels.\n"
     ]
    }
   ],
   "source": [
    "class Car():\n",
    "    def __init__(self, make, model):\n",
    "        self.make = make\n",
    "        self.model = model\n",
    "        \n",
    "    def printInfo():\n",
    "        print(f\"This is a car\")\n",
    "        \n",
    "class Ford(Car):\n",
    "    def __init__(self, make, model, color, wheels):\n",
    "        super().__init__(make, model)\n",
    "        self.color = color\n",
    "        self.wheels = wheels\n",
    "    \n",
    "    def printInfo(self):\n",
    "        print(f\"This is a {self.color} {self.make} {self.model} with {self.wheels} wheels.\") \n",
    "\n",
    "explorer = Ford(\"Ford\",\"Explorer\", \"Blue\", 4)\n",
    "\n",
    "explorer.printInfo()"
   ]
  },
  {
   "cell_type": "code",
   "execution_count": null,
   "id": "f86859c4",
   "metadata": {},
   "outputs": [],
   "source": []
  }
 ],
 "metadata": {
  "kernelspec": {
   "display_name": "Python 3.9.13 64-bit (microsoft store)",
   "language": "python",
   "name": "python3"
  },
  "language_info": {
   "codemirror_mode": {
    "name": "ipython",
    "version": 3
   },
   "file_extension": ".py",
   "mimetype": "text/x-python",
   "name": "python",
   "nbconvert_exporter": "python",
   "pygments_lexer": "ipython3",
   "version": "3.9.13"
  },
  "vscode": {
   "interpreter": {
    "hash": "61483be7dd8d3a1f964d7e1e788036c352fe440903e5fe5a6930904c77fb0d92"
   }
  }
 },
 "nbformat": 4,
 "nbformat_minor": 5
}
